{
 "cells": [
  {
   "cell_type": "markdown",
   "metadata": {},
   "source": [
    "# 扑克牌型"
   ]
  },
  {
   "cell_type": "markdown",
   "metadata": {},
   "source": [
    "## 游戏规则"
   ]
  },
  {
   "cell_type": "markdown",
   "metadata": {},
   "source": [
    "我们将五张扑克牌的组合称为一手牌，比较一手牌大小来决定胜负。"
   ]
  },
  {
   "cell_type": "markdown",
   "metadata": {},
   "source": [
    "按照 **先比牌型，再比点数** 的顺序比较牌型的大小\n",
    "\n",
    "- 牌型大小\n",
    "   - 同花顺 > 四条 > 葫芦 > 同花 > 顺子 > 三条 > 两对 > 一对 > 散牌\n",
    "- 点数\n",
    "    - A > K > Q > J > 10 > 9 > 8 > 7 > 6 > 5 > 4  > 3 > 2  \n",
    "    但同花顺和顺子中 A 如果配上 2345 时当做 1 点。\n",
    "    \n",
    "四条、葫芦、三条、两对、一对先比同样点数张数最多的牌，再比同样点数张数少的牌。例如：两对先比点数较大的对子，再比点数较小的对子，最后才是比单张。<a id=\"rank_rule\"></a>"
   ]
  },
  {
   "cell_type": "markdown",
   "metadata": {},
   "source": [
    "牌型的分类如下："
   ]
  },
  {
   "cell_type": "markdown",
   "metadata": {},
   "source": [
    "|牌型（别名）         | 英文名              | 说明                                    | 范例 |\n",
    "|:------------------    |: --------------     |: ----------------------------- |: ---- : |\n",
    "|同花顺                    | Straight Flush   | 五张同一花色且顺连的牌。 |  5♠ 6♠  7♠  8♠  9♠    |\n",
    "|四条（铁扇）         | Four of a Kind  |  有四张同一点数的牌。        | 4♠  <font color=\"red\">4♥</font>  4♣  <font color=\"red\">4♦</font>  <font color=\"red\">9♥</font>                               |\n",
    "|葫芦（夫佬）         |  Full house       | 三张同一点数的牌，加一对其他点数的牌。 |  8♠  8♣  <font color=\"red\">8♦</font>  K♠  <font color=\"red\">K♥</font>    |\n",
    "|同花                        | Flush                 | 五张同一花色的牌。           |   3♠  4♠  8♠  J♠  K♠                             |\n",
    "|顺子（蛇）             |   Straight           |  五张顺连的牌。                 | A♣  2♣  <font color=\"red\">3♥</font>  <font color=\"red\">4♦</font>  5♠                                |\n",
    "|三条                        | Three of a kind | 有三张同一点数的牌。        |  7♠  <font color=\"red\">7♥</font>  <font color=\"red\">7♦</font>  2♣  K♦                               |\n",
    "|两对（滔啤）         |  Two Pairs          | 有两张相同点数的牌，加另外两张相同点数的牌。 |  8♠  <font color=\"red\">8♦</font>  <font color=\"red\">A♥</font>  A♣  J♠         |\n",
    "|一对（啤）              |   One Pair         | 有两张相同点数的牌。       |  9♠  <font color=\"red\">9♥</font>  4♣  6♠  <font color=\"red\">A♥</font>                               |\n",
    "|散牌（高牌，乌龙） |   High card      | 不能排成以上组合的牌，以点数决定大小。 | 3♠  <font color=\"red\">6♥</font>  <font color=\"red\">9♦</font>  K♠  A♣        |"
   ]
  },
  {
   "cell_type": "markdown",
   "metadata": {},
   "source": [
    "## 构造"
   ]
  },
  {
   "cell_type": "markdown",
   "metadata": {},
   "source": [
    "### 框架"
   ]
  },
  {
   "cell_type": "markdown",
   "metadata": {},
   "source": [
    "我们要实现的过程 `poker` 是这样的一种过程：\n",
    "- 从多组手牌中找出最大的一组手牌\n",
    "- 使用函数 `hand_rank` 对手牌进行分级"
   ]
  },
  {
   "cell_type": "markdown",
   "metadata": {},
   "source": [
    "> **提示**\n",
    ">\n",
    "> max 函数使用关键字 `key` 得出自定义的最值，例如找出列表中绝对值最大的数"
   ]
  },
  {
   "cell_type": "code",
   "execution_count": 1,
   "metadata": {
    "run_control": {
     "marked": false
    }
   },
   "outputs": [
    {
     "data": {
      "text/plain": [
       "-4"
      ]
     },
     "execution_count": 1,
     "metadata": {},
     "output_type": "execute_result"
    }
   ],
   "source": [
    "max([1, 2, 3, -4, 0], key=abs)"
   ]
  },
  {
   "cell_type": "markdown",
   "metadata": {},
   "source": [
    "过程 `hand_rank` 将一组牌映射为用数表示的扑克牌型大小，根据 [1.1.2](#rank_rule) 中的规则，写出这一函数。  "
   ]
  },
  {
   "cell_type": "code",
   "execution_count": 27,
   "metadata": {
    "collapsed": true
   },
   "outputs": [],
   "source": [
    "def poker(hands):\n",
    "    \"\"\"\n",
    "        从多组牌中返回最好的一手牌\n",
    "    \"\"\"\n",
    "    return max(hands, key=hand_rank)"
   ]
  },
  {
   "cell_type": "markdown",
   "metadata": {},
   "source": [
    "这里，我们假定\n",
    "- 得出一组牌点数的 `card_nums` 函数\n",
    "\n",
    "以及判断一组牌\n",
    "- 是否为顺子的 `straight` 函数\n",
    "- 是否同花的 `flush` 函数\n",
    "- 含有几个相同点数牌的 `kind` 函数\n",
    "- 是否为两对的 `two_pairs` 函数\n",
    "\n",
    "已经给出。"
   ]
  },
  {
   "cell_type": "code",
   "execution_count": 28,
   "metadata": {
    "collapsed": true
   },
   "outputs": [],
   "source": [
    "def hand_rank_num(hand):\n",
    "    \"\"\" \n",
    "        一手扑克牌的牌型大小\n",
    "    \"\"\"\n",
    "    nums = card_nums(hand)\n",
    "    if straight(nums) and flush(hand): return 8\n",
    "    elif kind(4, nums): return 7\n",
    "    elif kind(3, nums) and kind(2, nums): return 6\n",
    "    elif flush(hand): return 5\n",
    "    elif straight(nums): return 4\n",
    "    elif kind(3, nums): return 3\n",
    "    elif two_pairs(nums): return 2\n",
    "    elif kind(2, nums): return 1\n",
    "    else: return 0"
   ]
  },
  {
   "cell_type": "markdown",
   "metadata": {},
   "source": [
    "上面的函数 `hand_rank_num` 将一手扑克牌分为 9 级 （返回数字 0-8）。  \n",
    "\n",
    "这种方式无法比较相同牌型的扑克牌的大小，还要根据扑克牌点数的大小继续比较。"
   ]
  },
  {
   "cell_type": "markdown",
   "metadata": {},
   "source": [
    "--------------------"
   ]
  },
  {
   "cell_type": "markdown",
   "metadata": {},
   "source": [
    "<center>\n",
    "<font size=\"4\">7♠\t&nbsp;  7♣\t &nbsp; <font color=\"red\">7♦</font> &nbsp;  2♣  &nbsp; <font color=\"red\">K♦</font></font>  \n",
    "<font size=\"4\">8♠\t&nbsp; <font color=\"red\">8♥</font>  &nbsp; <font color=\"red\">4♦</font> &nbsp;  A♠ &nbsp; 8♣</font>\n",
    "</center>"
   ]
  },
  {
   "cell_type": "markdown",
   "metadata": {},
   "source": [
    "例如，上面的牌的牌型都是 三条，返回的数字就是相同的。  "
   ]
  },
  {
   "cell_type": "markdown",
   "metadata": {},
   "source": [
    "我们将上面的牌表示为整数\n",
    "$$\n",
    "3071302  \\\\\n",
    "3081408\n",
    "$$\n",
    "或者是元组\n",
    "$$ \n",
    "(3, 7, 13, 7, 7, 7, 2)\\\\\n",
    "(3, 8, 14, 8, 8, 8, 4)\n",
    "$$"
   ]
  },
  {
   "cell_type": "markdown",
   "metadata": {},
   "source": [
    "我们将表示扑克牌型的数字放在首位，其后是点数相同的牌，最后表示整组牌的点数，或者是还没有写出的牌的点数。  "
   ]
  },
  {
   "cell_type": "markdown",
   "metadata": {},
   "source": [
    "表示为元组较好，`max` 将会逐个比较元组中的每个元素，而整数则需要考虑位数的问题，要使不同牌型的表示位数相同。"
   ]
  },
  {
   "cell_type": "markdown",
   "metadata": {},
   "source": [
    "改写后的 `hand_rank` 函数如下。"
   ]
  },
  {
   "cell_type": "code",
   "execution_count": 2,
   "metadata": {},
   "outputs": [],
   "source": [
    "def hand_rank(hand):\n",
    "    \"\"\" \n",
    "        一手扑克牌的等级，点数\n",
    "    \"\"\"\n",
    "    nums = card_nums(hand)  # 一手牌的点数，由大到小排列\n",
    "    if straight(nums) and flush(hand):\n",
    "        return (8, nums[0])  # 同花顺，比较最大的点数\n",
    "    elif kind(4, nums):\n",
    "        return (7, kind(4, nums), kind(1, nums))  # 比较  四条 的点数、剩下一张牌的点数\n",
    "    elif kind(3, nums) and kind(2, nums):\n",
    "        return (6, kind(3, nums), kind(2, nums))  # 比较  三条 的点数、一对 的点数\n",
    "    elif flush(hand):\n",
    "        return (5, nums)  # 同花，比较所有牌的点数\n",
    "    elif straight(nums):\n",
    "        return (4, nums[0])  # 顺子，比较最大的点数\n",
    "    elif kind(3, nums):\n",
    "        return (3, kind(3, nums), nums)  # 比较  三条 的点数、所有牌的点数\n",
    "    elif two_pairs(nums):\n",
    "        return (2, two_pairs(nums), nums)  # 比较 两对 的点数（由大到小），所有牌的点数\n",
    "    elif kind(2, nums):\n",
    "        return (1, kind(2, nums), nums)  # 比较 一对 的点数，所有牌的点数\n",
    "    else:\n",
    "        return (0, nums)  # 比较所有牌的点数"
   ]
  },
  {
   "cell_type": "markdown",
   "metadata": {},
   "source": [
    "> **提示**\n",
    "\n",
    ">这里的 `kind` 函数输入点数、期望点数相同的张数 $n$，输出 $n$ 张点数相同的牌的点数 或 `None`。  \n",
    "这里将 `kind` 的返回正整数值也用作布尔值。"
   ]
  },
  {
   "cell_type": "markdown",
   "metadata": {},
   "source": [
    "### 分类"
   ]
  },
  {
   "cell_type": "markdown",
   "metadata": {},
   "source": [
    "下面，完成 `hand_rank` 中所用到的函数：\n",
    "- 得出一组牌的点数 `card_nums` 函数\n",
    "- 是否为顺子的 `straight` 函数\n",
    "- 是否同花的 `flush` 函数\n",
    "- 相同点数纸牌的 `kind` 函数\n",
    "- 两对的 `two_pairs` 函数"
   ]
  },
  {
   "cell_type": "markdown",
   "metadata": {},
   "source": [
    "`card_nums` 将一组牌的第一位（点数）上的字符映射为对应的数字，并将它们由大到小排列。"
   ]
  },
  {
   "cell_type": "code",
   "execution_count": 3,
   "metadata": {},
   "outputs": [],
   "source": [
    "def card_nums(hand):\n",
    "    ch_to_num = {'2': 2, '3': 3, '4': 4, '5': 5, '6': 6, '7': 7, '8': 8, '9': 9, 'T': 10, \n",
    "                 'J': 11, 'Q': 12, 'K': 13, 'A': 14}\n",
    "    sort_nums = sorted([ch_to_num[n] for n, s in hand], reverse=True)\n",
    "    return [5, 4, 3, 2, 1] if (sort_nums == [14, 5, 4, 3, 2]) else sort_nums  # 出现 14(A)5432 时，变为 54321"
   ]
  },
  {
   "cell_type": "markdown",
   "metadata": {},
   "source": [
    "下面是判断是否为顺子的 straight 函数，以及判断是否同花的 flush 函数。"
   ]
  },
  {
   "cell_type": "code",
   "execution_count": 12,
   "metadata": {},
   "outputs": [],
   "source": [
    "def straight(nums):\n",
    "    return nums[0]-nums[-1] == 4 and len(set(nums)) == 5"
   ]
  },
  {
   "cell_type": "code",
   "execution_count": 4,
   "metadata": {},
   "outputs": [],
   "source": [
    "def flush(hand):\n",
    "    suits = [s for n, s in hand]  # flush 接收一组牌，不是这一组牌的点数\n",
    "    return len(set(suits)) == 1"
   ]
  },
  {
   "cell_type": "markdown",
   "metadata": {},
   "source": [
    "`kind` 函数：输入纸牌的点数、期望点数相同的张数 $n$，输出 $n$ 张点数相同的牌的点数 或 `None`。  "
   ]
  },
  {
   "cell_type": "code",
   "execution_count": 6,
   "metadata": {},
   "outputs": [],
   "source": [
    "def kind(n, nums):\n",
    "    for i in nums:\n",
    "        if nums.count(i) == n:  # 对每个纸牌的点数计数，并找出值等于 n 的点数。\n",
    "            return i"
   ]
  },
  {
   "cell_type": "markdown",
   "metadata": {},
   "source": [
    "`two_pairs` 将返回每一对的点数（如果存在），否则返回 `None`。"
   ]
  },
  {
   "cell_type": "code",
   "execution_count": 7,
   "metadata": {
    "run_control": {
     "marked": false
    }
   },
   "outputs": [],
   "source": [
    "def two_pairs(nums):\n",
    "    pair = kind(2, nums)\n",
    "    if pair:\n",
    "        i = nums.index(pair) + 1\n",
    "        sec_pair = kind(2, nums[i:])\n",
    "        if sec_pair: return pair, sec_pair  # 输入的点数从大到小，输出也是。"
   ]
  },
  {
   "cell_type": "markdown",
   "metadata": {},
   "source": [
    "### 测试"
   ]
  },
  {
   "cell_type": "markdown",
   "metadata": {},
   "source": [
    "首先准备好多组纸牌，如同下面列出的那些：\n",
    "```python\n",
    "sf = \"6C 7C 8C 9C TC\".split()  # straight flush\n",
    "fk = \"9D 9H 9S 9C 7D\".split()  # four kind\n",
    "fh = \"TC TD TH 7C 7D\".split()  # full house\n",
    "s1 = \"AD 2D 3D 4D 5D\".split()  # straight A - 5\n",
    "s2 = \"2C 3C 4C 5C 6C\".split()  # straight 2 - 6\n",
    "tp = \"KD KH 4C JC JD\".split()  # two pairs\n",
    "tk = \"6H 9C AH 9S QD\".split()  # one pair\n",
    "```"
   ]
  },
  {
   "cell_type": "markdown",
   "metadata": {},
   "source": [
    "需要逐步地测试各个函数\n",
    "- 输出最大的一组牌 `poker`\n",
    "    - 不同牌型\n",
    "    - 仅有一组牌\n",
    "    - 许多组牌\n",
    "    \n",
    "```python\n",
    "assert poker([sf, fk]) == sf\n",
    "assert poker([fk, fh, tp]) == fk  # 不同牌型\n",
    "assert poker([fk]) == fk  # 极端情况：一组牌\n",
    "assert poker([tp] + [s1] * 99) == s1  # 极端情况：100 组牌\n",
    "assert poker([s1, s2]) == s2  # 对 A-5 的特殊处理\n",
    "```"
   ]
  },
  {
   "cell_type": "markdown",
   "metadata": {},
   "source": [
    "- 测试牌型分级 `hand_rank`\n",
    "\n",
    "```python\n",
    "assert hand_rank(sf) == (8, 10)\n",
    "assert hand_rank(fk) == (7, 9, 7)\n",
    "assert hand_rank(fh) == (6, 10, 7)\n",
    "assert hand_rank(s1) == (8, 5)\n",
    "assert hand_rank(tp) == (2, (13, 11), [13, 13, 11, 11, 4])\n",
    "assert hand_rank(tk) == (1, 9, [14, 12, 9, 9, 6])\n",
    "```"
   ]
  },
  {
   "cell_type": "markdown",
   "metadata": {},
   "source": [
    "- 测试判断一组牌特征 `flush, straight, ...`\n",
    "\n",
    "```python\n",
    "assert flush(fk) is False\n",
    "assert straight(card_nums(fh)) is False\n",
    "assert kind(4, card_nums(fk)) == 9\n",
    "assert kind(2, card_nums(fh)) == 7\n",
    "assert kind(4, card_nums(fh)) is None  # kind 函数的输出情况\n",
    "assert two_pairs(card_nums(tp)) == (13, 11)  # two_pairs 函数输出两对牌的点数。\n",
    "assert two_pairs(card_nums(tk)) is None  # two_pairs 函数对于一对牌输出 None\n",
    "```"
   ]
  },
  {
   "cell_type": "markdown",
   "metadata": {},
   "source": [
    "### 频率"
   ]
  },
  {
   "cell_type": "markdown",
   "metadata": {},
   "source": [
    "从一幅牌中得到各个牌型的概率如下表[（链接）](https://zh.wikipedia.org/wiki/%E6%92%B2%E5%85%8B%E7%89%8C%E5%9E%8B)所示。  \n",
    "而通过大量的实验能够得出牌型的频率。"
   ]
  },
  {
   "cell_type": "markdown",
   "metadata": {},
   "source": [
    "|同花顺\t| 四条\t| 葫芦\t| 同花\t| 顺子\t| 三条\t| 两对\t| 一对\t| 散牌 |\n",
    "|:----  |: ---- |: ---- |: --- |: ----- |: ---  |: ---- |: ---- |: --- |\n",
    "|0.00154%\t| 0.024%\t| 0.144%\t| 0.197%\t| 0.392%\t| 2.11%\t| 4.75%\t| 42.26%\t| 50.12% |"
   ]
  },
  {
   "cell_type": "markdown",
   "metadata": {},
   "source": [
    "首先，写出从一幅牌中随机选择手牌的函数 `take_deal`：\n",
    "- 将一副按顺序排列的扑克牌打乱顺序\n",
    "- 从中选出 $n$ 组牌，每组牌默认有五张。"
   ]
  },
  {
   "cell_type": "code",
   "execution_count": 10,
   "metadata": {},
   "outputs": [],
   "source": [
    "import random\n",
    "\n",
    "def take_deal(numhands, n=5, deck=[r + s for r in '23456789TJQKA' for s in 'SHDC']):\n",
    "    \"\"\" 从一副牌中，随机地选出 numhands 组牌，每组 n 张牌 \"\"\"\n",
    "    random.shuffle(deck)  # shufle 随机交换列表中的元素\n",
    "    return [deck[n * i:n * i + n] for i in range(numhands)]"
   ]
  },
  {
   "cell_type": "markdown",
   "metadata": {},
   "source": [
    "下面是利用多次实验计算牌型频率的函数 `hand_rank_freq`。  \n",
    "实验的次数 $n$ 取值应当保证牌型概率的最小者 同花顺 平均出现 10 次，可取 $n = 700000$。"
   ]
  },
  {
   "cell_type": "code",
   "execution_count": 29,
   "metadata": {},
   "outputs": [],
   "source": [
    "def hand_rank_freq(n=700*100):\n",
    "    \"\"\" 各个牌型的频率 \"\"\"\n",
    "    hand_names = [\"散牌\", \"一对\", \"两对\", \"三条\", \"顺子\", \"同花\", \"葫芦\", \"四条\", \"同花顺\"]\n",
    "    counts = [0] * 9\n",
    "    for i in range(n // 10):\n",
    "        for hand in take_deal(10):\n",
    "            rank = hand_rank(hand)[0]\n",
    "            counts[rank] += 1\n",
    "    for i in reversed(range(9)):\n",
    "        print(\"%8s： %7.4f %%\" % (hand_names[i], 100. * counts[i] / n))"
   ]
  },
  {
   "cell_type": "code",
   "execution_count": 30,
   "metadata": {},
   "outputs": [
    {
     "name": "stdout",
     "output_type": "stream",
     "text": [
      "     同花顺：  0.0014 %\n",
      "      四条：  0.0329 %\n",
      "      葫芦：  0.1471 %\n",
      "      同花：  0.1971 %\n",
      "      顺子：  0.4200 %\n",
      "      三条：  2.0557 %\n",
      "      两对：  4.7057 %\n",
      "      一对： 42.0100 %\n",
      "      散牌： 50.4300 %\n"
     ]
    }
   ],
   "source": [
    "hand_rank_freq()"
   ]
  },
  {
   "cell_type": "markdown",
   "metadata": {},
   "source": [
    "## 重构"
   ]
  },
  {
   "cell_type": "markdown",
   "metadata": {},
   "source": [
    "### allmax"
   ]
  },
  {
   "cell_type": "markdown",
   "metadata": {},
   "source": [
    "在上面的 poker 函数中，我们用 max 函数选出了一组最大的扑克牌。  \n",
    "如果要选出所有最大的扑克牌，则可以使用下面的 allmax 函数。"
   ]
  },
  {
   "cell_type": "code",
   "execution_count": 1,
   "metadata": {
    "collapsed": true
   },
   "outputs": [],
   "source": [
    "def allmax(lst, key=None):\n",
    "    key = key or (lambda x: x)  # 如果 key 是默认值 None 则 key 是恒等映射。\n",
    "    res, maxval = [], None\n",
    "    for x in lst:\n",
    "        xval = key(x)\n",
    "        if not res or xval > maxval:  # 对 maxval = None 的特殊处理\n",
    "            res, maxval = [x], xval\n",
    "        elif xval == maxval:\n",
    "            res.append(x)\n",
    "    return res"
   ]
  },
  {
   "cell_type": "markdown",
   "metadata": {},
   "source": [
    "### 分组"
   ]
  },
  {
   "cell_type": "markdown",
   "metadata": {},
   "source": [
    "我们也可以将扑克牌按照相同点数的张数，点数分组。  \n",
    "例如，下面的扑克牌分组为"
   ]
  },
  {
   "cell_type": "markdown",
   "metadata": {},
   "source": [
    "<center><font size=\"4\">7♠\t&nbsp;  7♣\t &nbsp; <font color=\"red\">7♦</font> &nbsp;  2♣  &nbsp; <font color=\"red\">K♦</font></font></center>"
   ]
  },
  {
   "cell_type": "markdown",
   "metadata": {},
   "source": [
    "$$  (3,1,1)\\; (7,13,2) $$"
   ]
  },
  {
   "cell_type": "markdown",
   "metadata": {},
   "source": [
    "下面的 group 函数将一组牌的点数的重复次数分成了多个二元组，例如上面的扑克牌为："
   ]
  },
  {
   "cell_type": "markdown",
   "metadata": {},
   "source": [
    "$$ (3, 7), (1, 13), (1, 2) $$"
   ]
  },
  {
   "cell_type": "code",
   "execution_count": 2,
   "metadata": {
    "collapsed": true
   },
   "outputs": [],
   "source": [
    "def group(items):\n",
    "    groups = [(items.count(x), x) for x in set(items)]\n",
    "    return sorted(groups, reverse=True)"
   ]
  },
  {
   "cell_type": "markdown",
   "metadata": {},
   "source": [
    "随后，由所分成二元组得出重复次数和对应的点数，并将重复次数映射为牌型的大小。"
   ]
  },
  {
   "cell_type": "code",
   "execution_count": 5,
   "metadata": {
    "collapsed": true
   },
   "outputs": [],
   "source": [
    "def hand_rank2(hand):\n",
    "    groups = group(['--23456789TJQKA'.index(n) for n, s in hand])\n",
    "    counts, nums = zip(*groups)\n",
    "    if nums == (14, 5, 4, 3, 2):\n",
    "        nums = (5, 4, 3, 2, 1)\n",
    "    is_straight = max(nums)-min(nums)==4 and len(set(nums))==5\n",
    "    is_flush = len(set([s for n, s in hand])) == 1\n",
    "    counts_rank = {(5,): 10, (4, 1): 7, (3, 2): 6, (3, 1, 1): 3, (2, 2, 1): 2,\n",
    "                   (2, 1, 1, 1): 1, (1, 1, 1, 1, 1): 0}\n",
    "    return max(counts_rank[counts], 4 * is_straight + 5 * is_flush), nums"
   ]
  },
  {
   "cell_type": "markdown",
   "metadata": {
    "hide_input": true
   },
   "source": [
    "# 如何洗牌"
   ]
  },
  {
   "cell_type": "markdown",
   "metadata": {},
   "source": [
    "在 `take_deal` 中，我们使用 `shuffle` 函数打乱纸牌的顺序，来实现洗牌的效果。"
   ]
  },
  {
   "cell_type": "markdown",
   "metadata": {},
   "source": [
    "## 交换位置"
   ]
  },
  {
   "cell_type": "markdown",
   "metadata": {},
   "source": [
    "下面的 `shuffle` 函数用于打乱列表中元素的顺序：  \n",
    "随机地交换未被交换的元素，直到所有元素均被交换为止。"
   ]
  },
  {
   "cell_type": "code",
   "execution_count": 66,
   "metadata": {
    "collapsed": true,
    "run_control": {
     "marked": false
    }
   },
   "outputs": [],
   "source": [
    "def shuffle1(deck):\n",
    "    \"\"\" 打乱元素的顺序 \"\"\"\n",
    "    N = len(deck)\n",
    "    shuffled = [False] * N\n",
    "    while not all(shuffled):\n",
    "        i, j = random.randrange(N), random.randrange(N)\n",
    "        shuffled[i] = shuffled[j] = True\n",
    "        swap_it(deck, i, j)"
   ]
  },
  {
   "cell_type": "markdown",
   "metadata": {},
   "source": [
    "> **警告**\n",
    "\n",
    "> 函数 `shuffle` 直接修改传入的列表，无返回值。"
   ]
  },
  {
   "cell_type": "code",
   "execution_count": 65,
   "metadata": {
    "collapsed": true
   },
   "outputs": [],
   "source": [
    "def swap_it(lst, i, j):\n",
    "    \"\"\" 交换列表中的元素 \"\"\"\n",
    "    lst[i], lst[j] = lst[j], lst[i]"
   ]
  },
  {
   "cell_type": "markdown",
   "metadata": {},
   "source": [
    "这一函数需要多长的时间？  \n",
    "\n",
    "如果在已经在乱序的列表中添加一个新的元素，如果要使得该元素被交换，则需要的时间为 $n$。  \n",
    "因此，这个函数所需的时间为 $O(n^2)$"
   ]
  },
  {
   "cell_type": "markdown",
   "metadata": {},
   "source": [
    "用下面的函数顺序地交换每个位置上的元素，这个函数所需的时间为  $O(n)$。"
   ]
  },
  {
   "cell_type": "code",
   "execution_count": 68,
   "metadata": {
    "collapsed": true,
    "run_control": {
     "marked": false
    }
   },
   "outputs": [],
   "source": [
    "def shuffle2(lst):\n",
    "    \"\"\" 打乱元素的顺序 \"\"\"\n",
    "    N = len(lst)\n",
    "    for x in range(N - 1):\n",
    "        swap_it(lst, x, random.randrange(x, N))"
   ]
  },
  {
   "cell_type": "markdown",
   "metadata": {},
   "source": [
    "## 随机性"
   ]
  },
  {
   "cell_type": "markdown",
   "metadata": {},
   "source": [
    "上面两个函数有哪些区别？ 它们能否使得每种排列等可能？   \n",
    "我们进行下面的测试。"
   ]
  },
  {
   "cell_type": "code",
   "execution_count": 88,
   "metadata": {
    "collapsed": true
   },
   "outputs": [],
   "source": [
    "from collections import defaultdict\n",
    "\n",
    "def shuffle_test(shuffler, deck='ABC', n=10000, verbose=True):\n",
    "    counts = defaultdict(int)\n",
    "    for _ in range(n):\n",
    "        input = list(deck)\n",
    "        shuffler(input)\n",
    "        counts[''.join(input)] += 1\n",
    "\n",
    "    def factorial(n):\n",
    "        return 1 if n < 2 else n * factorial(n - 1)\n",
    "\n",
    "    mean = n * 1. / factorial(len(deck))\n",
    "    ok = all(map(lambda x: 0.9 <= x / mean <= 1.1, counts.values()))\n",
    "    print(\"%s  \\\"%s\\\"  %s\" % (shuffler.__name__, deck,\n",
    "                          ('ok' if ok else '*** bad ***')))\n",
    "    print(\"mean: %4.2f\" % (mean / 100.), end='    ')\n",
    "    for item, count in sorted(counts.items()):\n",
    "        print(\"%s: %4.2f\" % (item, count * 100. / n), end='    ')\n",
    "    print()"
   ]
  },
  {
   "cell_type": "code",
   "execution_count": 91,
   "metadata": {},
   "outputs": [
    {
     "name": "stdout",
     "output_type": "stream",
     "text": [
      "\n",
      "shuffle1  \"ab\"  *** bad ***\n",
      "mean: 50.00    ab: 17.24    ba: 82.76    \n",
      "shuffle2  \"ab\"  ok\n",
      "mean: 50.00    ab: 49.65    ba: 50.35    \n",
      "\n",
      "shuffle1  \"abc\"  *** bad ***\n",
      "mean: 16.67    abc: 4.73    acb: 14.16    bac: 13.94    bca: 26.77    cab: 26.71    cba: 13.69    \n",
      "shuffle2  \"abc\"  ok\n",
      "mean: 16.67    abc: 16.75    acb: 16.66    bac: 16.12    bca: 16.68    cab: 16.91    cba: 16.88    \n"
     ]
    }
   ],
   "source": [
    "for deck in ('ab', 'abc'):\n",
    "    print()\n",
    "    for s in (shuffle1, shuffle2):\n",
    "        shuffle_test(s, deck)"
   ]
  },
  {
   "cell_type": "markdown",
   "metadata": {},
   "source": [
    "接着，我们可以写出另一些 `shuffle` 函数，例如下面所展示的片段。\n",
    "```python\n",
    "# shuffle3\n",
    "shuffled[i] = True  # 改写 `shuffle1` 的第 7 行\n",
    "# shuffle4\n",
    "for x in range(N):  # 改写 shuffle2的第 4 行\n",
    "```"
   ]
  },
  {
   "cell_type": "markdown",
   "metadata": {},
   "source": [
    "由此，画出在不同的 `shuffle` 函数下出现各种情况频率的图像，容易看出其是否具有良好的随机性。"
   ]
  },
  {
   "cell_type": "markdown",
   "metadata": {},
   "source": [
    "![shuffle1](../assets/shuff1.png)"
   ]
  },
  {
   "cell_type": "markdown",
   "metadata": {},
   "source": [
    "![shuffle2](../assets/shuff2.png)\n"
   ]
  },
  {
   "cell_type": "markdown",
   "metadata": {},
   "source": [
    "![shuffle3](../assets/shuff3.png)"
   ]
  },
  {
   "cell_type": "markdown",
   "metadata": {},
   "source": [
    "![shuffle4](../assets/shuff4.png)"
   ]
  }
 ],
 "metadata": {
  "kernelspec": {
   "display_name": "Python 3",
   "language": "python",
   "name": "python3"
  },
  "language_info": {
   "codemirror_mode": {
    "name": "ipython",
    "version": 3
   },
   "file_extension": ".py",
   "mimetype": "text/x-python",
   "name": "python",
   "nbconvert_exporter": "python",
   "pygments_lexer": "ipython3",
   "version": "3.6.2"
  },
  "latex_envs": {
   "LaTeX_envs_menu_present": true,
   "autocomplete": true,
   "bibliofile": "biblio.bib",
   "cite_by": "apalike",
   "current_citInitial": 1.0,
   "eqLabelWithNumbers": true,
   "eqNumInitial": 1.0,
   "hotkeys": {
    "equation": "Ctrl-E",
    "itemize": "Ctrl-I"
   },
   "labels_anchors": false,
   "latex_user_defs": false,
   "report_style_numbering": false,
   "user_envs_cfg": false
  },
  "scpy3": {
   "theme": "doc-white"
  },
  "toc": {
   "nav_menu": {
    "height": "469px",
    "width": "243px"
   },
   "number_sections": true,
   "sideBar": true,
   "skip_h1_title": false,
   "toc_cell": false,
   "toc_position": {
    "height": "610px",
    "left": "0px",
    "right": "1183px",
    "top": "52px",
    "width": "189px"
   },
   "toc_section_display": "block",
   "toc_window_display": true
  }
 },
 "nbformat": 4,
 "nbformat_minor": 2
}
